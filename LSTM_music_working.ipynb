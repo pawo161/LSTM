{
  "nbformat": 4,
  "nbformat_minor": 0,
  "metadata": {
    "kernelspec": {
      "display_name": "Python 3",
      "language": "python",
      "name": "python3"
    },
    "language_info": {
      "codemirror_mode": {
        "name": "ipython",
        "version": 3
      },
      "file_extension": ".py",
      "mimetype": "text/x-python",
      "name": "python",
      "nbconvert_exporter": "python",
      "pygments_lexer": "ipython3",
      "version": "3.7.3"
    },
    "colab": {
      "name": "LSTM_music_working.ipynb",
      "provenance": [],
      "collapsed_sections": [],
      "include_colab_link": true
    },
    "accelerator": "GPU"
  },
  "cells": [
    {
      "cell_type": "markdown",
      "metadata": {
        "id": "view-in-github",
        "colab_type": "text"
      },
      "source": [
        "<a href=\"https://colab.research.google.com/github/pawo161/LSTM/blob/master/LSTM_music_working.ipynb\" target=\"_parent\"><img src=\"https://colab.research.google.com/assets/colab-badge.svg\" alt=\"Open In Colab\"/></a>"
      ]
    },
    {
      "cell_type": "code",
      "metadata": {
        "id": "2cDTE5dpAt5L",
        "colab_type": "code",
        "outputId": "7609f67e-6c18-4f58-f43f-6688868617d1",
        "colab": {
          "base_uri": "https://localhost:8080/",
          "height": 190
        }
      },
      "source": [
        "!pip3 install music21\n",
        "!pip3 install keras"
      ],
      "execution_count": 0,
      "outputs": [
        {
          "output_type": "stream",
          "text": [
            "Requirement already satisfied: music21 in /usr/local/lib/python3.6/dist-packages (5.5.0)\n",
            "Requirement already satisfied: keras in /usr/local/lib/python3.6/dist-packages (2.3.1)\n",
            "Requirement already satisfied: numpy>=1.9.1 in /usr/local/lib/python3.6/dist-packages (from keras) (1.18.4)\n",
            "Requirement already satisfied: scipy>=0.14 in /usr/local/lib/python3.6/dist-packages (from keras) (1.4.1)\n",
            "Requirement already satisfied: pyyaml in /usr/local/lib/python3.6/dist-packages (from keras) (3.13)\n",
            "Requirement already satisfied: keras-applications>=1.0.6 in /usr/local/lib/python3.6/dist-packages (from keras) (1.0.8)\n",
            "Requirement already satisfied: keras-preprocessing>=1.0.5 in /usr/local/lib/python3.6/dist-packages (from keras) (1.1.2)\n",
            "Requirement already satisfied: h5py in /usr/local/lib/python3.6/dist-packages (from keras) (2.10.0)\n",
            "Requirement already satisfied: six>=1.9.0 in /usr/local/lib/python3.6/dist-packages (from keras) (1.12.0)\n"
          ],
          "name": "stdout"
        }
      ]
    },
    {
      "cell_type": "code",
      "metadata": {
        "id": "mqMTiCjYAt5U",
        "colab_type": "code",
        "outputId": "7c559ab5-6560-423a-b0af-b152484bfaba",
        "colab": {
          "base_uri": "https://localhost:8080/",
          "height": 34
        }
      },
      "source": [
        "import os\n",
        "import time\n",
        "\n",
        "from zipfile import ZipFile\n",
        "import glob\n",
        "import pickle\n",
        "import numpy as np\n",
        "import sys\n",
        "import keras\n",
        "import matplotlib.pyplot as plt\n",
        "\n",
        "from keras.models import Sequential\n",
        "from keras.layers.normalization import BatchNormalization\n",
        "from keras.layers import Dense\n",
        "from keras.layers import Dropout\n",
        "from keras.layers import CuDNNLSTM, LSTM\n",
        "from keras.layers import Activation\n",
        "from keras.utils import np_utils\n",
        "from keras.callbacks import TensorBoard\n",
        "from shutil import copyfile\n",
        "from keras.utils import np_utils\n",
        "from keras.callbacks import ModelCheckpoint\n",
        "from music21 import converter, corpus, instrument, midi, note, chord, pitch\n",
        "from music21 import *"
      ],
      "execution_count": 0,
      "outputs": [
        {
          "output_type": "stream",
          "text": [
            "Using TensorFlow backend.\n"
          ],
          "name": "stderr"
        }
      ]
    },
    {
      "cell_type": "code",
      "metadata": {
        "id": "jCyQnS14A-L9",
        "colab_type": "code",
        "colab": {}
      },
      "source": [
        "\"\"\"\n",
        "1. dataset Maestro od Magenta\n",
        "https://magenta.tensorflow.org/datasets/maestro\n",
        "midi only (53 mb)\n",
        "2. mount drive \n",
        "3. unpack and preprocess\n",
        "glob.glob('/content/drive/My Drive/midi/*/*.midi')\n",
        "\"\"\""
      ],
      "execution_count": 0,
      "outputs": []
    },
    {
      "cell_type": "code",
      "metadata": {
        "id": "CQnMrfWkBsoL",
        "colab_type": "code",
        "outputId": "3977106e-b4f4-4334-f50b-f2c78b2ef2c9",
        "colab": {
          "base_uri": "https://localhost:8080/",
          "height": 54
        }
      },
      "source": [
        "from google.colab import drive\n",
        "drive.mount('/content/drive')"
      ],
      "execution_count": 0,
      "outputs": [
        {
          "output_type": "stream",
          "text": [
            "Drive already mounted at /content/drive; to attempt to forcibly remount, call drive.mount(\"/content/drive\", force_remount=True).\n"
          ],
          "name": "stdout"
        }
      ]
    },
    {
      "cell_type": "code",
      "metadata": {
        "id": "KJw5XLMhBCXR",
        "colab_type": "code",
        "colab": {}
      },
      "source": [
        "zipfile = \"/content/drive/My Drive/maestro-v2.0.0-midi.zip\"\n",
        "with ZipFile(zipfile, 'r') as zipObj:\n",
        "   zipObj.extractall('/content/drive/My Drive/')"
      ],
      "execution_count": 0,
      "outputs": []
    },
    {
      "cell_type": "code",
      "metadata": {
        "id": "lZgOZDMOAt5X",
        "colab_type": "code",
        "colab": {}
      },
      "source": [
        "notes=[]"
      ],
      "execution_count": 0,
      "outputs": []
    },
    {
      "cell_type": "code",
      "metadata": {
        "id": "t5PrWQn2At5a",
        "colab_type": "code",
        "colab": {}
      },
      "source": [
        "#definiowanie funkcji do czytania MIDI\n",
        "def read_midi(file):\n",
        "    \n",
        "    print(\"ładuję midi:\",file)\n",
        "    #parsing a midi file\n",
        "    midi = converter.parse(file)\n",
        "    \n",
        "    notes_to_parse = None\n",
        "    notes_to_parse = midi.recurse() \n",
        "    #gdyby pliki mialy podzial na instrumenty (moje mają tylko jeden):\n",
        "#     parts = instrument.partitionByInstrument(midi)\n",
        "    \n",
        "    #parsing a midi file\n",
        "#     midi = converter.parse(file)\n",
        "    \n",
        "    # s2 = instrument.partitionByInstrument(midi)\n",
        "\n",
        "    #wykrywanie czy jest akord czy pojedynczy dźwięk\n",
        "#     for element in notes_to_parse:\n",
        "#     if parts: # file has instrument parts\n",
        "#          notes_to_parse = parts.parts[0].recurse()\n",
        "#     else: # file has notes in a flat structure\n",
        "#          notes_to_parse = midi.flat.notes\n",
        "    for element in enumerate(notes_to_parse):   \n",
        "        #nuta\n",
        "        if isinstance(element, note.Note):\n",
        "            notes.append(str(element.pitch))\n",
        "#             print(\"nuta:\", str(element.pitch))\n",
        "        #akord\n",
        "        elif isinstance(element, chord.Chord):\n",
        "            notes.append('.'.join(str(n)for n in element.normalOrder))\n",
        "#             print(\"akord:\", '.'.join(str(n) for n in element.normalOrder))\n",
        "        elif isinstance(element, note.Rest):\n",
        "            notes.append('#'+str(element.seconds))\n",
        "#             print(\"pauza:\", '#'+str(element.seconds))\n",
        "        \n",
        "    with open('jazz', 'wb') as filepath:\n",
        "        pickle.dump(notes, filepath)       \n",
        "    return notes"
      ],
      "execution_count": 0,
      "outputs": []
    },
    {
      "cell_type": "code",
      "metadata": {
        "id": "v42_Pm60At5p",
        "colab_type": "code",
        "colab": {}
      },
      "source": [
        "#funkcja odpalająca zbieranie danych midi do listy\n",
        "for f in glob.glob('/content/drive/My Drive/maestro-v2.0.0/2011/*.midi'):\n",
        "    read_midi(f)\n",
        "    "
      ],
      "execution_count": 0,
      "outputs": []
    },
    {
      "cell_type": "code",
      "metadata": {
        "id": "BXPnz-TyAt5s",
        "colab_type": "code",
        "colab": {}
      },
      "source": [
        "# test pojedynczego pliku w zapisie music21 np. E3 to nuta E w 3. oktawie, E-3 to Eflat w trzeciej oktawie\n",
        "# akordy zapisane są jako dzwięki zapisie midi oddzielone kropkami\n",
        "#pauza to wartość z '#' na początku np. 0.125 to ósemka\n",
        "read_midi('/content/drive/My Drive/maestro-v2.0.0/2017/MIDI-Unprocessed_041_PIANO041_MID--AUDIO-split_07-06-17_Piano-e_1-01_wav--1.midi')"
      ],
      "execution_count": 0,
      "outputs": []
    },
    {
      "cell_type": "code",
      "metadata": {
        "id": "ROcmxW3DAt5u",
        "colab_type": "code",
        "colab": {}
      },
      "source": [
        "#jeśli plik pickle jest już utworzony\n",
        "with open('/content/drive/My Drive/newest_dump_2011', 'rb') as filepath:\n",
        "        notes = pickle.load(filepath)"
      ],
      "execution_count": 0,
      "outputs": []
    },
    {
      "cell_type": "code",
      "metadata": {
        "id": "B1f92EPpAt52",
        "colab_type": "code",
        "outputId": "81207a8e-706f-4a74-e865-ae0f2b268a6f",
        "colab": {
          "base_uri": "https://localhost:8080/",
          "height": 34
        }
      },
      "source": [
        "#liczba wszystkich możliwych wartości\n",
        "# notes_ = [element for note_ in notes_array for element in note_]\n",
        "# print(notes_[:10])\n",
        "# #unique notes\n",
        "# n_vocab = len(set(notes_))\n",
        "n_vocab = len(set(notes))\n",
        "n_vocab"
      ],
      "execution_count": 0,
      "outputs": [
        {
          "output_type": "execute_result",
          "data": {
            "text/plain": [
              "1458"
            ]
          },
          "metadata": {
            "tags": []
          },
          "execution_count": 24
        }
      ]
    },
    {
      "cell_type": "code",
      "metadata": {
        "id": "5ht4yx3oAt55",
        "colab_type": "code",
        "outputId": "3a8968ff-f97f-4cf9-90a6-22ef779d3c60",
        "colab": {
          "base_uri": "https://localhost:8080/",
          "height": 136
        }
      },
      "source": [
        "#przygotowuję dane do wejścia LSTM\n",
        "\n",
        "#długość sekwencji wejściowej, której następnik sieć ma przewidzieć\n",
        "sequence_length = 100\n",
        "# zbieram wszystkie nuty, posortowane (notacja midi 1 - 128)\n",
        "pitchnames = sorted(set(item for item in notes))\n",
        "\n",
        "# tokenizuję, przyporządkowując każdej nucie liczbę\n",
        "note_to_int = dict((note, number) for number, note in enumerate(pitchnames))\n",
        "\n",
        "network_input = []\n",
        "network_output = []\n",
        "\n",
        "# sekwencje wejściowe i odpowiadające im wyjścia\n",
        "for i in range(0, len(notes) - sequence_length, 1):\n",
        "    sequence_in = notes[i:i + sequence_length] # ma długość sekwencji (wybrałem 40)\n",
        "    # print(\"to na wejście sieci:\", sequence_in)\n",
        "    sequence_out = notes[i + sequence_length]  # długość 1, nuta do przewidzenia przez sieć jako kolejna po sekwencji na wejściu\n",
        "    # print(\"to na wyjście sieci:\", sequence_out)\n",
        "\n",
        "    # # Przyporządkowujemy sekwencji wejściowej liczby\n",
        "    network_input.append([note_to_int[char] for char in sequence_in])\n",
        "    # print(\"to na wejście sieci jako int:\", sequence_in)\n",
        "    # # Przyporządkowujemy sekwencji wyjściowej liczby\n",
        "    network_output.append(note_to_int[sequence_out])\n",
        "    # print(\"to na wyjście sieci jako int:\", sequence_out)\n",
        "\n",
        "n_patterns = len(network_input)\n",
        "# dostosowanie formatu wejściowego odpowiedniego dla warstw LSTM\n",
        "network_input = np.reshape(network_input, (n_patterns, sequence_length, 1))\n",
        "# normalizacja wejścia\n",
        "network_input = network_input / n_vocab\n",
        "# n_vocab = np.max(network_input)\n",
        "# print(n_vocab)\n",
        "#Converts a class vector (integers) to binary class matrix.\n",
        "#for use with categorical_crossentropy.\n",
        "network_output = np_utils.to_categorical(network_output)\n",
        "print(network_output)"
      ],
      "execution_count": 0,
      "outputs": [
        {
          "output_type": "stream",
          "text": [
            "[[0. 0. 0. ... 0. 0. 0.]\n",
            " [0. 0. 0. ... 0. 0. 0.]\n",
            " [0. 0. 0. ... 0. 0. 0.]\n",
            " ...\n",
            " [0. 0. 0. ... 0. 0. 0.]\n",
            " [0. 0. 0. ... 0. 0. 0.]\n",
            " [0. 0. 0. ... 0. 0. 0.]]\n"
          ],
          "name": "stdout"
        }
      ]
    },
    {
      "cell_type": "code",
      "metadata": {
        "id": "aFcssIDnAt5-",
        "colab_type": "code",
        "colab": {}
      },
      "source": [
        "#używam keras, który działa na tensorflow 2+,\n",
        "#jeśli użyję odpowienich parametrów w warstwach lstm domyślnie użyte będzie GPU\n",
        "def create_network(network_input, n_vocab):\n",
        "      model = Sequential()\n",
        "\n",
        "      model.add(LSTM(128, input_shape=(network_input.shape[1], network_input.shape[2]), return_sequences=True))\n",
        "      model.add(Dropout(0.3))\n",
        "      model.add(BatchNormalization())\n",
        "\n",
        "      model.add(LSTM(128, return_sequences=True))\n",
        "      model.add(Dropout(0.3))\n",
        "      model.add(BatchNormalization())\n",
        "\n",
        "      model.add(LSTM(256))\n",
        "      model.add(Dropout(0.3))\n",
        "      model.add(BatchNormalization())\n",
        "\n",
        "      model.add(Dense(128, activation=\"relu\"))\n",
        "      model.add(Dropout(0.3))\n",
        "      model.add(BatchNormalization())\n",
        "\n",
        "      model.add(Dense(n_vocab))\n",
        "      model.add(Activation('softmax'))\n",
        "      model.compile(loss='categorical_crossentropy', optimizer='adam',metrics=[\"accuracy\"])\n",
        "      return model"
      ],
      "execution_count": 0,
      "outputs": []
    },
    {
      "cell_type": "code",
      "metadata": {
        "scrolled": true,
        "id": "lMHbFv9pAt6E",
        "colab_type": "code",
        "colab": {}
      },
      "source": [
        "#testuję kilka sieci, różne prarametry\n",
        "def create_network(network_input, n_vocab):\n",
        "    \"\"\" create the structure of the neural network \"\"\"\n",
        "    model = Sequential()\n",
        "    model.add(LSTM(\n",
        "        256,\n",
        "        input_shape=(network_input.shape[1], network_input.shape[2]),\n",
        "        return_sequences=True\n",
        "    ))\n",
        "    model.add(Dropout(0.3))\n",
        "    model.add(LSTM(512, return_sequences=True))\n",
        "    model.add(Dropout(0.3))\n",
        "    model.add(LSTM(256))\n",
        "    model.add(Dense(256))\n",
        "    model.add(Dropout(0.3))\n",
        "    model.add(Dense(n_vocab))\n",
        "    model.add(Activation('softmax'))\n",
        "    model.compile(loss='categorical_crossentropy', optimizer='rmsprop', metrics=[\"accuracy\"])\n",
        "    return model"
      ],
      "execution_count": 0,
      "outputs": []
    },
    {
      "cell_type": "code",
      "metadata": {
        "id": "XZRMtLKzAt6H",
        "colab_type": "code",
        "outputId": "6561cf78-024d-4825-bf01-66cf61fe6c09",
        "colab": {
          "base_uri": "https://localhost:8080/",
          "height": 459
        }
      },
      "source": [
        "#podsumowanie sieci\n",
        "model = create_network(network_input, n_vocab)\n",
        "model.summary()"
      ],
      "execution_count": 0,
      "outputs": [
        {
          "output_type": "stream",
          "text": [
            "Model: \"sequential_6\"\n",
            "_________________________________________________________________\n",
            "Layer (type)                 Output Shape              Param #   \n",
            "=================================================================\n",
            "lstm_16 (LSTM)               (None, 40, 256)           264192    \n",
            "_________________________________________________________________\n",
            "dropout_18 (Dropout)         (None, 40, 256)           0         \n",
            "_________________________________________________________________\n",
            "lstm_17 (LSTM)               (None, 40, 512)           1574912   \n",
            "_________________________________________________________________\n",
            "dropout_19 (Dropout)         (None, 40, 512)           0         \n",
            "_________________________________________________________________\n",
            "lstm_18 (LSTM)               (None, 256)               787456    \n",
            "_________________________________________________________________\n",
            "dense_10 (Dense)             (None, 256)               65792     \n",
            "_________________________________________________________________\n",
            "dropout_20 (Dropout)         (None, 256)               0         \n",
            "_________________________________________________________________\n",
            "dense_11 (Dense)             (None, 1458)              374706    \n",
            "_________________________________________________________________\n",
            "activation_5 (Activation)    (None, 1458)              0         \n",
            "=================================================================\n",
            "Total params: 3,067,058\n",
            "Trainable params: 3,067,058\n",
            "Non-trainable params: 0\n",
            "_________________________________________________________________\n"
          ],
          "name": "stdout"
        }
      ]
    },
    {
      "cell_type": "code",
      "metadata": {
        "id": "437mI0PYAt6J",
        "colab_type": "code",
        "colab": {}
      },
      "source": [
        "#rozpoczęcie treningu\n",
        "\n",
        "filepath = \"train_n_vocab{epoch:02d}-{loss:.4f}.h5\"\n",
        "\n",
        "checkpoint = ModelCheckpoint(filepath, verbose=0,\n",
        "                             monitor='loss',save_best_only=True, mode='min')\n",
        "\n",
        "callbacks_list = [checkpoint]\n",
        "model.fit(network_input, network_output, epochs=40, batch_size=256, \n",
        "          callbacks=callbacks_list)\n"
      ],
      "execution_count": 0,
      "outputs": []
    },
    {
      "cell_type": "code",
      "metadata": {
        "id": "qFjzg3VyAt6L",
        "colab_type": "code",
        "outputId": "23ee4b28-cdc6-4e62-9c57-ca476e260866",
        "colab": {}
      },
      "source": [
        "# ewaluacja wykonanego treningu \n",
        "print(\"\\nModel evaluation at the end of training\")\n",
        "train_acc = model.evaluate(network_input, network_output, verbose=1)\n",
        "print(model.metrics_names)\n",
        "print(train_acc)"
      ],
      "execution_count": 0,
      "outputs": [
        {
          "output_type": "stream",
          "text": [
            "\n",
            "Model evaluation at the end of training\n",
            "  3936/479421 [..............................] - ETA: 21:51"
          ],
          "name": "stdout"
        }
      ]
    },
    {
      "cell_type": "code",
      "metadata": {
        "id": "m_ahFZNSAt6N",
        "colab_type": "code",
        "colab": {}
      },
      "source": [
        "# Sekcja generowania wyników :\n",
        "from keras.models import load_model\n",
        "\n",
        "model.load_weights(\"/content/train_n_vocab16-4.4654.h5\")\n"
      ],
      "execution_count": 0,
      "outputs": []
    },
    {
      "cell_type": "code",
      "metadata": {
        "id": "UM9-Nk0uAt6P",
        "colab_type": "code",
        "outputId": "852a6681-8858-42c5-a5c4-74cc46525f36",
        "colab": {
          "base_uri": "https://localhost:8080/",
          "height": 34
        }
      },
      "source": [
        "from tqdm import trange\n",
        "#mała paczka do progress baru\n",
        "import random\n",
        "print('generating prediction stream...')\n",
        " #wybieram losową sekwencję z wejścia jak punkt startowy do generowania (predykcji)\n",
        "start = np.random.randint(0, len(network_input)-1)\n",
        "int_to_note = dict((number, note) for number, note in enumerate(pitchnames))\n",
        "pattern = network_input[start].tolist()\n",
        "prediction_output = []"
      ],
      "execution_count": 0,
      "outputs": [
        {
          "output_type": "stream",
          "text": [
            "generating prediction stream...\n"
          ],
          "name": "stdout"
        }
      ]
    },
    {
      "cell_type": "code",
      "metadata": {
        "id": "6i35LMo0At6T",
        "colab_type": "code",
        "outputId": "d327fee6-717c-40df-a138-e1fa0475deb7",
        "colab": {
          "base_uri": "https://localhost:8080/",
          "height": 34
        }
      },
      "source": [
        "#wybrana ilość nut do wygenerowania (200)\n",
        "for note_index in trange(200):\n",
        "     prediction_input = np.reshape(pattern, (1, len(pattern), 1))\n",
        "     prediction = model.predict(prediction_input, verbose=0)\n",
        "     index = np.argmax(prediction)\n",
        "     result = int_to_note[index]\n",
        "     prediction_output.append(result)\n",
        "     pattern.append([index/49])\n",
        "     pattern = pattern[1:len(pattern)]"
      ],
      "execution_count": 0,
      "outputs": [
        {
          "output_type": "stream",
          "text": [
            "100%|██████████| 60/60 [00:01<00:00, 58.36it/s]\n"
          ],
          "name": "stderr"
        }
      ]
    },
    {
      "cell_type": "code",
      "metadata": {
        "id": "yqAMmTwDAt6V",
        "colab_type": "code",
        "outputId": "6f275ea4-cf86-410c-9c8c-e113e99b91c6",
        "colab": {
          "base_uri": "https://localhost:8080/",
          "height": 34
        }
      },
      "source": [
        "offset = 0\n",
        "output_notes = []\n",
        "\n",
        "# kreowanie obiektów music21 z wygenerowanej predykcji\n",
        "print('creating notes and chords')\n",
        "for pattern in prediction_output:\n",
        "    \n",
        "    # pattern to akord\n",
        "    if (('.' in pattern) or pattern.isdigit()) and pattern[0]!='#':\n",
        "        notes_in_chord = pattern.split('.')\n",
        "        notes = []\n",
        "        for current_note in notes_in_chord:\n",
        "            new_note = note.Note(int(current_note))\n",
        "            new_note.storedInstrument = instrument.Piano()\n",
        "            notes.append(new_note)\n",
        "        new_chord = chord.Chord(notes)\n",
        "        new_chord.offset = offset\n",
        "        output_notes.append(new_chord)\n",
        "        \n",
        "    # pattern to nuta\n",
        "    elif pattern[0]!='#':\n",
        "        new_note = note.Note(pattern)\n",
        "        new_note.offset = offset\n",
        "        new_note.storedInstrument = instrument.Piano()\n",
        "        output_notes.append(new_note)\n",
        "        \n",
        "    # pattern to pauza\n",
        "    else:\n",
        "        new_note = note.Rest()\n",
        "        new_note.offset = offset\n",
        "        new_note.storedInstrument = instrument.Piano()\n",
        "        new_note.quarterLength = float(pattern[1:])\n",
        "        output_notes.append(new_note)\n",
        "    # odstęp, aby nuty nie nakładały się na siebie\n",
        "    offset += 0.5"
      ],
      "execution_count": 0,
      "outputs": [
        {
          "output_type": "stream",
          "text": [
            "creating notes and chords\n"
          ],
          "name": "stdout"
        }
      ]
    },
    {
      "cell_type": "code",
      "metadata": {
        "scrolled": true,
        "id": "p3XqMDq4At6X",
        "colab_type": "code",
        "outputId": "c6953e9f-225b-46e4-81cf-bb9fdd0f0299",
        "colab": {
          "base_uri": "https://localhost:8080/",
          "height": 71
        }
      },
      "source": [
        "#zmieniamy wygenerowane dane na nuty i tworzymy plik midi z tych nut\n",
        "midi_stream = stream.Stream(output_notes)\n",
        "print(output_notes)\n",
        "midi_stream.write('midi', fp=\"fragment13.mid\")"
      ],
      "execution_count": 0,
      "outputs": [
        {
          "output_type": "stream",
          "text": [
            "[<music21.note.Note E>, <music21.note.Note E>, <music21.note.Note D>, <music21.note.Note D>, <music21.note.Note D>, <music21.note.Note D>, <music21.note.Note D>, <music21.note.Note D>, <music21.note.Note D>, <music21.note.Note E->, <music21.note.Note E->, <music21.note.Note E->, <music21.note.Note E->, <music21.note.Note D>, <music21.note.Note E->, <music21.note.Note E->, <music21.note.Note E->, <music21.note.Note E->, <music21.note.Note E->, <music21.note.Note E->, <music21.note.Note E->, <music21.note.Note D>, <music21.note.Note E->, <music21.note.Note F#>, <music21.note.Note F#>, <music21.note.Note F#>, <music21.note.Note F#>, <music21.note.Note F#>, <music21.note.Note F#>, <music21.note.Note F#>, <music21.note.Note F#>, <music21.note.Note F#>, <music21.note.Note F#>, <music21.note.Note F#>, <music21.note.Note F#>, <music21.note.Note F#>, <music21.note.Note F#>, <music21.note.Note F#>, <music21.note.Note F#>, <music21.note.Note F#>, <music21.note.Note E->, <music21.note.Note E->, <music21.note.Note E->, <music21.note.Note E->, <music21.note.Note E->, <music21.note.Note E->, <music21.note.Note E->, <music21.note.Note E->, <music21.note.Note E->, <music21.note.Note E->, <music21.note.Note E->, <music21.note.Note E->, <music21.note.Note E->, <music21.note.Note E->, <music21.note.Note E->, <music21.note.Note E->, <music21.note.Note E->, <music21.note.Note E->, <music21.note.Note E->, <music21.note.Note E->]\n"
          ],
          "name": "stdout"
        },
        {
          "output_type": "execute_result",
          "data": {
            "text/plain": [
              "'fragment13.mid'"
            ]
          },
          "metadata": {
            "tags": []
          },
          "execution_count": 44
        }
      ]
    },
    {
      "cell_type": "code",
      "metadata": {
        "id": "DdLBcL0QAt6a",
        "colab_type": "code",
        "colab": {}
      },
      "source": [
        ""
      ],
      "execution_count": 0,
      "outputs": []
    }
  ]
}